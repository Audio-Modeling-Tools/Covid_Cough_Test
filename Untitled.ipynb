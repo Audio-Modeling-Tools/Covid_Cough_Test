{
 "cells": [
  {
   "cell_type": "code",
   "execution_count": 10,
   "metadata": {},
   "outputs": [
    {
     "name": "stdout",
     "output_type": "stream",
     "text": [
      "['2020-05-14-14:51:41-Wet.wav']\n"
     ]
    }
   ],
   "source": [
    "from pydub import AudioSegment\n",
    "import os\n",
    "file= os.listdir('./test')\n",
    "print(file)\n"
   ]
  },
  {
   "cell_type": "code",
   "execution_count": 11,
   "metadata": {},
   "outputs": [
    {
     "data": {
      "text/plain": [
       "<_io.BufferedRandom name='./testop/2020-05-14-14:51:41-Wet.wav'>"
      ]
     },
     "execution_count": 11,
     "metadata": {},
     "output_type": "execute_result"
    }
   ],
   "source": [
    "sound = AudioSegment.from_wav(\"./test/{}\".format(file[0]))\n",
    "sound = sound.set_channels(1)\n",
    "sound.export(\"./testop/{}\".format(file[0]), format=\"wav\")"
   ]
  },
  {
   "cell_type": "code",
   "execution_count": 18,
   "metadata": {},
   "outputs": [
    {
     "name": "stdout",
     "output_type": "stream",
     "text": [
      "/home/bitsy-chuck/audio-classification-practice/covid\n",
      "clean\t  docs\t   models     predict.py   requirements.txt  train.py\n",
      "clean.py  LICENSE  models.py  __pycache__  test\t\t     Untitled.ipynb\n",
      "data\t  logs\t   notebooks  README.md    testop\t     wavfiles\n",
      "total 84\n",
      "drwxr-xr-x 4 bitsy-chuck bitsy-chuck 4096 May 16 00:42 clean\n",
      "-rw-rw-r-- 1 bitsy-chuck bitsy-chuck 4648 May 16 01:06 clean.py\n",
      "drwxr-xr-x 4 bitsy-chuck bitsy-chuck 4096 May 16 01:06 data\n",
      "drwxrwxr-x 2 bitsy-chuck bitsy-chuck 4096 May  9 16:58 docs\n",
      "-rw-rw-r-- 1 bitsy-chuck bitsy-chuck 1064 May  9 16:58 LICENSE\n",
      "drwxrwxr-x 2 bitsy-chuck bitsy-chuck 4096 May  9 16:58 logs\n",
      "drwxrwxr-x 2 bitsy-chuck bitsy-chuck 4096 May 14 18:07 models\n",
      "-rw-rw-r-- 1 bitsy-chuck bitsy-chuck 5621 May  9 16:58 models.py\n",
      "drwxrwxr-x 2 bitsy-chuck bitsy-chuck 4096 May  9 16:58 notebooks\n",
      "-rw-rw-r-- 1 bitsy-chuck bitsy-chuck 2091 May 16 01:21 predict.py\n",
      "drwxr-xr-x 2 bitsy-chuck bitsy-chuck 4096 May 16 01:06 __pycache__\n",
      "-rw-rw-r-- 1 bitsy-chuck bitsy-chuck 1785 May  9 16:58 README.md\n",
      "-rw-rw-r-- 1 bitsy-chuck bitsy-chuck 1235 May  9 16:58 requirements.txt\n",
      "drwxr-xr-x 2 bitsy-chuck bitsy-chuck 4096 May 16 12:19 test\n",
      "drwxr-xr-x 2 bitsy-chuck bitsy-chuck 4096 May 16 12:20 testop\n",
      "-rw-rw-r-- 1 bitsy-chuck bitsy-chuck 4397 May  9 16:58 train.py\n",
      "-rw-r--r-- 1 bitsy-chuck bitsy-chuck 1788 May 16 14:49 Untitled.ipynb\n",
      "drwxr-xr-x 4 bitsy-chuck bitsy-chuck 4096 May 16 00:40 wavfiles\n"
     ]
    }
   ],
   "source": [
    "!pwd\n",
    "!dir\n",
    "!ls -l"
   ]
  },
  {
   "cell_type": "code",
   "execution_count": 23,
   "metadata": {},
   "outputs": [
    {
     "name": "stdout",
     "output_type": "stream",
     "text": [
      "./models/lstm.h5\r\n"
     ]
    }
   ],
   "source": [
    "!tar -zcvf lstm-model.tgz './models/lstm.h5'"
   ]
  },
  {
   "cell_type": "code",
   "execution_count": 24,
   "metadata": {},
   "outputs": [
    {
     "ename": "ModuleNotFoundError",
     "evalue": "No module named 'watson_machine_learning_client'",
     "output_type": "error",
     "traceback": [
      "\u001b[0;31m---------------------------------------------------------------------------\u001b[0m",
      "\u001b[0;31mModuleNotFoundError\u001b[0m                       Traceback (most recent call last)",
      "\u001b[0;32m<ipython-input-24-5e14c2e10ac4>\u001b[0m in \u001b[0;36m<module>\u001b[0;34m\u001b[0m\n\u001b[0;32m----> 1\u001b[0;31m \u001b[0;32mfrom\u001b[0m \u001b[0mwatson_machine_learning_client\u001b[0m \u001b[0;32mimport\u001b[0m \u001b[0mWatsonMachineLearningAPIClient\u001b[0m\u001b[0;34m\u001b[0m\u001b[0;34m\u001b[0m\u001b[0m\n\u001b[0m\u001b[1;32m      2\u001b[0m wml_credentials = {\n\u001b[1;32m      3\u001b[0m     \u001b[0;34m\"apikey\"\u001b[0m    \u001b[0;34m:\u001b[0m \u001b[0;34m\"slZa_iGHniHMxqYeD_7iPnDRxhJRS17BzUchxX6jWuJI\"\u001b[0m\u001b[0;34m,\u001b[0m\u001b[0;34m\u001b[0m\u001b[0;34m\u001b[0m\u001b[0m\n\u001b[1;32m      4\u001b[0m     \u001b[0;34m\"instance_id\"\u001b[0m \u001b[0;34m:\u001b[0m \u001b[0;34m\"cbaca086-1867-4972-987a-cf1c0334d296\"\u001b[0m\u001b[0;34m,\u001b[0m\u001b[0;34m\u001b[0m\u001b[0;34m\u001b[0m\u001b[0m\n\u001b[1;32m      5\u001b[0m     \u001b[0;34m\"url\"\u001b[0m    \u001b[0;34m:\u001b[0m \u001b[0;34m\"https://eu-gb.ml.cloud.ibm.com\"\u001b[0m\u001b[0;34m\u001b[0m\u001b[0;34m\u001b[0m\u001b[0m\n",
      "\u001b[0;31mModuleNotFoundError\u001b[0m: No module named 'watson_machine_learning_client'"
     ]
    }
   ],
   "source": [
    "from watson_machine_learning_client import WatsonMachineLearningAPIClient\n",
    "wml_credentials = {\n",
    "    \"apikey\"    : \"slZa_iGHniHMxqYeD_7iPnDRxhJRS17BzUchxX6jWuJI\",\n",
    "    \"instance_id\" : \"cbaca086-1867-4972-987a-cf1c0334d296\",\n",
    "    \"url\"    : \"https://eu-gb.ml.cloud.ibm.com\"\n",
    "}"
   ]
  }
 ],
 "metadata": {
  "kernelspec": {
   "display_name": "Python 3",
   "language": "python",
   "name": "python3"
  },
  "language_info": {
   "codemirror_mode": {
    "name": "ipython",
    "version": 3
   },
   "file_extension": ".py",
   "mimetype": "text/x-python",
   "name": "python",
   "nbconvert_exporter": "python",
   "pygments_lexer": "ipython3",
   "version": "3.7.3"
  }
 },
 "nbformat": 4,
 "nbformat_minor": 4
}
